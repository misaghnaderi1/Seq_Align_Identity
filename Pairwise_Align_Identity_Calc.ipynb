{
 "cells": [
  {
   "cell_type": "code",
   "execution_count": 1,
   "metadata": {
    "collapsed": true
   },
   "outputs": [],
   "source": [
    "def CalcSeqIdentity(seqA, seqB):\n",
    "    numPlaces = min(len(seqA),len(seqB))\n",
    "    score = 0.0\n",
    "    gap = 0.0\n",
    "    for i in range(numPlaces):\n",
    "        if seqA[i] == seqB[i]:\n",
    "            score += 1.0\n",
    "            #print(seqA[i],i)\n",
    "        if seqA[i] == \"-\" or seqB[i] == \"-\"  :\n",
    "            gap += 1.0\n",
    "    print \"Alined length =\", numPlaces - gap ,\",\" ,\"Identical Pairs = \", score,\",\", \"Gaps =\",gap\n",
    "    return 100.0 * score/(numPlaces - gap)\n"
   ]
  },
  {
   "cell_type": "code",
   "execution_count": 12,
   "metadata": {
    "collapsed": false
   },
   "outputs": [],
   "source": [
    "def Align(A,B):\n",
    "    from Bio import pairwise2 \n",
    "    from Bio.pairwise2 import format_alignment \n",
    "    from Bio.SubsMat import MatrixInfo as matlist\n",
    "    matrix = matlist.blosum62 \n",
    "    gap_open = -12\n",
    "    gap_extend = -1.2\n",
    " \n",
    "    align=pairwise2.align.globalds(A, B, matrix,gap_open,gap_extend)\n",
    "    #align=pairwise2.align.globaldx(A, B, matrix)\n",
    "    #Top alignment is the align[0]\n",
    "\n",
    "    print(format_alignment(*align[0]))\n",
    "    #To save each aligned sequence in separate variables for identity calc\n",
    "    SeqA= align[0][0]\n",
    "    SeqB= align[0][1]\n",
    "    CalcSeqIdentity(SeqA,SeqB)"
   ]
  },
  {
   "cell_type": "code",
   "execution_count": 13,
   "metadata": {
    "collapsed": true
   },
   "outputs": [],
   "source": [
    "#Example Sequences\n",
    "A=\"SNMWVIGKSKAQDAKAIMVNGPQFGWYAPAYTYGIGLHGAGYDVTGNTPFAYPGLVFGHNGVISWGSTAGFGDDVDIFAERLSAEKPGYYLHNGKWVKMLSREETITVKNGQAETFTVWRTVHGNILQTDQTTQTAYAKSRAWDGKEVASLLAWTHQMKAKNWQQWTQQAAKQALTINWYYADVNGNIGYVHTGAYPDRQSGHDPRL\"\n",
    "B=\"MLIAIEGVDGAGKRTLVEKLSGAFRAAGRSVATLAFPRYGQSVAADIAAEALHGEHGDLASSVYAMATLFALDRAGAVHTIQGLCRGYDVVILDRYVASNAAYSAARLHENAAGKAAAWVQRIEFARLGLPKPDWQVLLAVSAELAGERSRGRAQRDPGRARDNYERDAE\""
   ]
  },
  {
   "cell_type": "code",
   "execution_count": 14,
   "metadata": {
    "collapsed": false
   },
   "outputs": [
    {
     "name": "stdout",
     "output_type": "stream",
     "text": [
      "SNMWVIGKSKAQDAKAIMVNGPQFGWYAPAYTYGIGLHGAGYDVTGNTPFAYPGLVFGHNGVISWGSTAGFGDDVDIFAERLSAEKPGYYLHNGKWVKMLSREETITVKNGQAETFTVWRTVHGN---ILQTDQTTQTAYAKSRAWDGKEVASLLAWTHQMKAKNWQQWTQQAAKQALTINWYY-----ADVNGNIGYVHTGAYPDRQSGHDPR--L\n",
      "|||||||||||||||||||||||||||||||||||||||||||||||||||||||||||||||||||||||||||||||||||||||||||||||||||||||||||||||||||||||||||||||||||||||||||||||||||||||||||||||||||||||||||||||||||||||||||||||||||||||||||||||||||||||||\n",
      "MLIAIEGVDGA--GKRTLVEKLSGAFRA-----------AGRSVA---TLAFP----------RYGQSVA----ADIAAEALHGE-------HGDLASSVYAMATLFALDRAGAVHTIQGLCRGYDVVILDRYVASNAAYSAARLHENAAG----------KAAAWVQRIEFARLGLPKPDWQVLLAVSAELAGERSRGRAQRDPGRARDNYERDAE\n",
      "  Score=-78.4\n",
      "\n",
      "Alined length = 160.0 , Identical Pairs =  37.0 , Gaps = 57.0\n"
     ]
    }
   ],
   "source": [
    "Align(A,B)"
   ]
  }
 ],
 "metadata": {
  "kernelspec": {
   "display_name": "Python 2",
   "language": "python",
   "name": "python2"
  },
  "language_info": {
   "codemirror_mode": {
    "name": "ipython",
    "version": 2
   },
   "file_extension": ".py",
   "mimetype": "text/x-python",
   "name": "python",
   "nbconvert_exporter": "python",
   "pygments_lexer": "ipython2",
   "version": "2.7.11"
  }
 },
 "nbformat": 4,
 "nbformat_minor": 0
}
